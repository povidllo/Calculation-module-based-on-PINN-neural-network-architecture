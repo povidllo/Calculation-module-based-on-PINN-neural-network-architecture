{
  "cells": [
    {
      "cell_type": "markdown",
      "metadata": {
        "id": "gt0oTLUcwNtq"
      },
      "source": [
        "# Import modules"
      ]
    },
    {
      "cell_type": "code",
      "execution_count": 2,
      "metadata": {
        "id": "7xPDcHKy26bZ"
      },
      "outputs": [],
      "source": [
        "import torch\n",
        "import torch.nn as nn\n",
        "\n",
        "import numpy as np\n",
        "import pandas as pd\n",
        "import matplotlib.pyplot as plt\n",
        "\n",
        "import torch.optim as optim\n",
        "from torch.utils.data import Dataset, DataLoader\n",
        "\n",
        "from tqdm import tqdm\n",
        "from torch.utils.tensorboard import SummaryWriter\n",
        "from google.colab import files as filescolab"
      ]
    },
    {
      "cell_type": "code",
      "source": [
        "device = torch.device(\"cuda\" if torch.cuda.is_available() else \"cpu\")\n",
        "device\n"
      ],
      "metadata": {
        "id": "1XCUClosMLY0"
      },
      "execution_count": null,
      "outputs": []
    },
    {
      "cell_type": "markdown",
      "source": [],
      "metadata": {
        "id": "9Nxd_BYWL6NF"
      }
    },
    {
      "cell_type": "markdown",
      "metadata": {
        "id": "G5SRysfqwRff"
      },
      "source": [
        "# Model PINN"
      ]
    },
    {
      "cell_type": "code",
      "execution_count": 4,
      "metadata": {
        "id": "2MSndFCQ3FRt"
      },
      "outputs": [],
      "source": [
        "class simpleModel(nn.Module):\n",
        "  def __init__(self,\n",
        "               hidden_size=20):\n",
        "    super().__init__()\n",
        "    self.layers_stack = nn.Sequential(\n",
        "        nn.Linear(1, hidden_size),\n",
        "        nn.Tanh(),\n",
        "        nn.Linear(hidden_size, hidden_size), #1\n",
        "        nn.Tanh(),\n",
        "        nn.Linear(hidden_size, hidden_size), #2\n",
        "        nn.Tanh(),\n",
        "        nn.Linear(hidden_size, hidden_size), #3\n",
        "        nn.Tanh(),\n",
        "        nn.Linear(hidden_size, hidden_size), #4\n",
        "        nn.Tanh(),\n",
        "        nn.Linear(hidden_size, 1),\n",
        "        nn.Tanh(),\n",
        "    )\n",
        "\n",
        "  def forward(self, x):\n",
        "    return self.layers_stack(x)"
      ]
    },
    {
      "cell_type": "markdown",
      "metadata": {
        "id": "irMKI947yXaE"
      },
      "source": [
        "# Enter your data or or use another method to save history"
      ]
    },
    {
      "cell_type": "markdown",
      "metadata": {
        "id": "SdJp2az4zHPB"
      },
      "source": [
        "# PDE of the motion of harmonic oscillator"
      ]
    },
    {
      "cell_type": "code",
      "execution_count": 5,
      "metadata": {
        "id": "n5OmQHkB6Q6z"
      },
      "outputs": [],
      "source": [
        "# def pde(out, t, nu=2):\n",
        "#     omega = 2 * torch.pi * nu\n",
        "#     dxdt = torch.autograd.grad(out, t, torch.ones_like(t), create_graph=True, \\\n",
        "#                             retain_graph=True)[0]\n",
        "#     d2xdt2 = torch.autograd.grad(dxdt, t, torch.ones_like(t), create_graph=True, \\\n",
        "#                             retain_graph=True)[0]\n",
        "#     f = d2xdt2 + (omega ** 2) * out\n",
        "#     return f\n",
        "\n",
        "def pde(out, x, C=1):\n",
        "    du_dx = torch.autograd.grad(out, x, torch.ones_like(x), create_graph=True, retain_graph=True)[0]\n",
        "    d2u_dx2 = torch.autograd.grad(du_dx, x, torch.ones_like(x), create_graph=True, retain_graph=True)[0]\n",
        "\n",
        "    f = C * x\n",
        "\n",
        "    residual = d2u_dx2 + f\n",
        "    return residual\n",
        "\n"
      ]
    },
    {
      "cell_type": "code",
      "execution_count": 6,
      "metadata": {
        "id": "0h6qZhS6TuZ4"
      },
      "outputs": [],
      "source": [
        "# nu=2\n",
        "# omega = 2 * torch.pi * nu\n",
        "# x0_true=torch.tensor([1], dtype=float).float().to(device)\n",
        "# dx0dt_true=torch.tensor([0], dtype=float).float().to(device)\n",
        "C = 1.0\n",
        "T_star = 1.0\n",
        "u_star = 1.0\n",
        "L = 10.0\n",
        "x0_true=torch.tensor([-T_star], dtype=float).float().to(device)\n",
        "dx0dt_true=torch.tensor([u_star], dtype=float).float().to(device)"
      ]
    },
    {
      "cell_type": "markdown",
      "metadata": {
        "id": "IwXv7jLCZDMQ"
      },
      "source": [
        "#Training"
      ]
    },
    {
      "cell_type": "code",
      "execution_count": 7,
      "metadata": {
        "id": "wse493eMgSGj"
      },
      "outputs": [],
      "source": [
        "def pdeBC(t):\n",
        "    out = model(t).to(device)\n",
        "    f1 = pde(out, t)\n",
        "\n",
        "    inlet_mask = (t[:, 0] == 0)\n",
        "    t0 = t[inlet_mask]\n",
        "    x0 = model(t0).to(device)\n",
        "    dx0dt = torch.autograd.grad(x0, t0, torch.ones_like(t0), create_graph=True, \\\n",
        "                        retain_graph=True)[0]\n",
        "\n",
        "    loss_bc = metric_data(x0, x0_true) + \\\n",
        "                metric_data(dx0dt, dx0dt_true.to(device))\n",
        "    loss_pde = metric_data(f1, torch.zeros_like(f1))\n",
        "\n",
        "    loss = 1e3*loss_bc + loss_pde\n",
        "\n",
        "    # metric_x = metric_data(out, x0_true * torch.sin(omega*t + torch.pi / 2))\n",
        "    # metric_x0 = metric_data(x0, x0_true)\n",
        "    # metric_dx0dt = metric_data(dx0dt, dx0dt_true.to(device))\n",
        "\n",
        "    # acc_metrics = {'metric_x': metric_x,\n",
        "    #             'metric_x0': metric_x0,\n",
        "    #             'metric_dx0dt': metric_dx0dt,\n",
        "    #             }\n",
        "\n",
        "    # metrics = {'loss': loss,\n",
        "    #             'loss_bc': loss_bc,\n",
        "    #             'loss_pde': loss_pde,\n",
        "    #             }\n",
        "\n",
        "    return loss"
      ]
    },
    {
      "cell_type": "code",
      "execution_count": 8,
      "metadata": {
        "id": "xQuIZ9JOlwG4"
      },
      "outputs": [],
      "source": [
        "model = simpleModel().to(device)"
      ]
    },
    {
      "cell_type": "code",
      "execution_count": 9,
      "metadata": {
        "colab": {
          "base_uri": "https://localhost:8080/"
        },
        "id": "mEpdyRY4ZGGQ",
        "outputId": "f509b1a5-d3dc-44bf-f551-b6f6bc001566"
      },
      "outputs": [
        {
          "output_type": "stream",
          "name": "stderr",
          "text": [
            "\rTraining Progress:   0%|          | 0/1000 [00:00<?, ?it/s]/usr/local/lib/python3.10/dist-packages/torch/nn/modules/loss.py:538: UserWarning: Using a target size (torch.Size([1])) that is different to the input size (torch.Size([1, 1])). This will likely lead to incorrect results due to broadcasting. Please ensure they have the same size.\n",
            "  return F.mse_loss(input, target, reduction=self.reduction)\n",
            "Step: 998 | Loss: 5000.334961: 100%|██████████| 1000/1000 [00:49<00:00, 20.36it/s]\n"
          ]
        }
      ],
      "source": [
        "steps=1000\n",
        "pbar = tqdm(range(steps), desc='Training Progress')\n",
        "t = (torch.linspace(0, 1, 100).unsqueeze(1)).to(device)\n",
        "t.requires_grad = True\n",
        "\n",
        "metric_data = nn.MSELoss()\n",
        "writer = SummaryWriter()\n",
        "optimizer = torch.optim.LBFGS(model.parameters(), lr=0.1)\n",
        "\n",
        "def train():\n",
        "\n",
        "\n",
        "    for step in pbar:\n",
        "        def closure():\n",
        "            optimizer.zero_grad()\n",
        "            loss = pdeBC(t)\n",
        "            loss.backward()\n",
        "            return loss\n",
        "\n",
        "        optimizer.step(closure)\n",
        "        if step % 2 == 0:\n",
        "            current_loss = closure().item()\n",
        "            pbar.set_description(\"Step: %d | Loss: %.6f\" %\n",
        "                                 (step, current_loss))\n",
        "            writer.add_scalar('Loss/train', current_loss, step)\n",
        "\n",
        "train()\n",
        "writer.close()"
      ]
    },
    {
      "cell_type": "markdown",
      "metadata": {
        "id": "enqWePAQwlfT"
      },
      "source": [
        "# Save weights"
      ]
    },
    {
      "cell_type": "code",
      "execution_count": 11,
      "metadata": {
        "id": "meITeabSquOI",
        "colab": {
          "base_uri": "https://localhost:8080/",
          "height": 17
        },
        "outputId": "72dbe73f-b1d1-45da-9c9d-3f1d170097e9"
      },
      "outputs": [
        {
          "output_type": "display_data",
          "data": {
            "text/plain": [
              "<IPython.core.display.Javascript object>"
            ],
            "application/javascript": [
              "\n",
              "    async function download(id, filename, size) {\n",
              "      if (!google.colab.kernel.accessAllowed) {\n",
              "        return;\n",
              "      }\n",
              "      const div = document.createElement('div');\n",
              "      const label = document.createElement('label');\n",
              "      label.textContent = `Downloading \"${filename}\": `;\n",
              "      div.appendChild(label);\n",
              "      const progress = document.createElement('progress');\n",
              "      progress.max = size;\n",
              "      div.appendChild(progress);\n",
              "      document.body.appendChild(div);\n",
              "\n",
              "      const buffers = [];\n",
              "      let downloaded = 0;\n",
              "\n",
              "      const channel = await google.colab.kernel.comms.open(id);\n",
              "      // Send a message to notify the kernel that we're ready.\n",
              "      channel.send({})\n",
              "\n",
              "      for await (const message of channel.messages) {\n",
              "        // Send a message to notify the kernel that we're ready.\n",
              "        channel.send({})\n",
              "        if (message.buffers) {\n",
              "          for (const buffer of message.buffers) {\n",
              "            buffers.push(buffer);\n",
              "            downloaded += buffer.byteLength;\n",
              "            progress.value = downloaded;\n",
              "          }\n",
              "        }\n",
              "      }\n",
              "      const blob = new Blob(buffers, {type: 'application/binary'});\n",
              "      const a = document.createElement('a');\n",
              "      a.href = window.URL.createObjectURL(blob);\n",
              "      a.download = filename;\n",
              "      div.appendChild(a);\n",
              "      a.click();\n",
              "      div.remove();\n",
              "    }\n",
              "  "
            ]
          },
          "metadata": {}
        },
        {
          "output_type": "display_data",
          "data": {
            "text/plain": [
              "<IPython.core.display.Javascript object>"
            ],
            "application/javascript": [
              "download(\"download_2002686a-8c61-4e9c-a8bc-53b8c2788134\", \"weights_PINN_harm_oscil_3exp.pth\", 11842)"
            ]
          },
          "metadata": {}
        }
      ],
      "source": [
        "torch.save(model.state_dict(), 'weights_PINN_harm_oscil_3exp.pth')\n",
        "filescolab.download(\"weights_PINN_harm_oscil_3exp.pth\")"
      ]
    },
    {
      "cell_type": "markdown",
      "metadata": {
        "id": "8InY_ReXwn8c"
      },
      "source": [
        "# Load weights (if necessary)"
      ]
    },
    {
      "cell_type": "code",
      "execution_count": null,
      "metadata": {
        "id": "KndfM7bSWtp3"
      },
      "outputs": [],
      "source": [
        "path='/content/weights_PINN_harm_oscil_3exp.pth'\n",
        "\n",
        "model.load_state_dict(torch.load(path,\\\n",
        "                                 map_location=torch.device('cpu')))"
      ]
    },
    {
      "cell_type": "markdown",
      "metadata": {
        "id": "QgZCizcIwzxz"
      },
      "source": [
        "# Predict values"
      ]
    },
    {
      "cell_type": "code",
      "execution_count": 13,
      "metadata": {
        "id": "-mwqfbhD-DoA"
      },
      "outputs": [],
      "source": [
        "t = torch.linspace(0, 1, 100).unsqueeze(-1).unsqueeze(0).to(device)\n",
        "t.requires_grad=True\n",
        "x_pred = model(t.float())"
      ]
    },
    {
      "cell_type": "code",
      "execution_count": 14,
      "metadata": {
        "id": "_mG_yqbZCSlp"
      },
      "outputs": [],
      "source": [
        "# x_true = x0_true * torch.cos(omega*t)\n",
        "x_true = C/6 *(L**3 - t**3) - T_star*(t+L) + u_star"
      ]
    },
    {
      "cell_type": "code",
      "execution_count": 15,
      "metadata": {
        "colab": {
          "base_uri": "https://localhost:8080/",
          "height": 480
        },
        "id": "YCLVOQ16CM2E",
        "outputId": "11d4952e-792c-42b5-fc1f-35aa44c0437e"
      },
      "outputs": [
        {
          "output_type": "display_data",
          "data": {
            "text/plain": [
              "<Figure size 640x480 with 1 Axes>"
            ],
            "image/png": "[encoded data removed]"
          },
          "metadata": {}
        }
      ],
      "source": [
        "fs=13\n",
        "plt.scatter(t[0].cpu().detach().numpy(), x_pred[0].cpu().detach().numpy(), label='pred',\n",
        "            marker='o',\n",
        "            alpha=.7,\n",
        "            s=50)\n",
        "plt.plot(t[0].cpu().detach().numpy(),x_true[0].cpu().detach().numpy(),\n",
        "         color='blue',\n",
        "         label='analytical')\n",
        "plt.xlabel('t', fontsize=fs)\n",
        "plt.ylabel('x(t)', fontsize=fs)\n",
        "plt.xticks(fontsize=fs)\n",
        "plt.yticks(fontsize=fs)\n",
        "plt.legend()\n",
        "plt.title('x(t)')\n",
        "plt.savefig('x.png')\n",
        "plt.show()"
      ]
    },
    {
      "cell_type": "code",
      "execution_count": null,
      "metadata": {
        "id": "2-d9XtQgn2tI"
      },
      "outputs": [],
      "source": [
        "dxdt = torch.autograd.grad(x_pred, t, torch.ones_like(t), create_graph=True, \\\n",
        "                    retain_graph=True)[0]\n",
        "dxdt = dxdt.cpu().detach().numpy()[0]"
      ]
    },
    {
      "cell_type": "code",
      "execution_count": null,
      "metadata": {
        "id": "1TMBH-_xohqw"
      },
      "outputs": [],
      "source": [
        "dxdt_true = -x0_true*omega * torch.sin(omega*t)"
      ]
    },
    {
      "cell_type": "code",
      "execution_count": null,
      "metadata": {
        "colab": {
          "base_uri": "https://localhost:8080/",
          "height": 480
        },
        "id": "BRbBc_znoO-e",
        "outputId": "9ef023e6-2952-42c2-d0d8-33d8fa99f3dc"
      },
      "outputs": [
        {
          "output_type": "display_data",
          "data": {
            "text/plain": [
              "<Figure size 640x480 with 1 Axes>"
            ],
            "image/png": "[encoded data removed]"
          },
          "metadata": {}
        }
      ],
      "source": [
        "plt.scatter(t[0].cpu().detach().numpy(), dxdt, label='pred',\n",
        "            marker='o',\n",
        "            alpha=.7,\n",
        "            s=50,\n",
        "            color='darkviolet')\n",
        "plt.plot(t[0].cpu().detach().numpy(),dxdt_true[0].cpu().detach().numpy(),\n",
        "         color='darkviolet',\n",
        "         label='analytical')\n",
        "plt.xlabel('t', fontsize=fs)\n",
        "plt.ylabel('dx/dt', fontsize=fs)\n",
        "plt.xticks(fontsize=fs)\n",
        "plt.yticks(fontsize=fs)\n",
        "plt.legend()\n",
        "plt.title('dx/dt (t)')\n",
        "plt.savefig('dxdt.png')\n",
        "plt.show()"
      ]
    },
    {
      "cell_type": "markdown",
      "metadata": {
        "id": "c9FXn6Kep_ot"
      },
      "source": [
        "# history"
      ]
    },
    {
      "cell_type": "code",
      "execution_count": null,
      "metadata": {
        "id": "uTxwU294qCBz"
      },
      "outputs": [],
      "source": [
        "path='/content/loss_pde.csv'\n",
        "loss_pde=np.genfromtxt(path, delimiter=',')[:, 2]\n",
        "\n",
        "path='/content/loss_bc.csv'\n",
        "loss_bc=np.genfromtxt(path, delimiter=',')[:, 2]\n",
        "\n",
        "path='/content/loss.csv'\n",
        "total_loss=np.genfromtxt(path, delimiter=',')[:, 2]"
      ]
    },
    {
      "cell_type": "code",
      "execution_count": null,
      "metadata": {
        "id": "AgxkKEqKqiR8"
      },
      "outputs": [],
      "source": [
        "fs = 12\n",
        "\n",
        "plt.plot(loss_pde, label=r'$Loss_{PDE}$')\n",
        "plt.plot(1e3*loss_bc, label=r'$\\lambda_{BC}Loss_{BC}$')\n",
        "plt.plot(total_loss, label=r'$Loss_{sum}$')\n",
        "\n",
        "ax=plt.gca()\n",
        "ax.set_yscale('log')\n",
        "plt.grid(which='major', linestyle='-')\n",
        "plt.grid(which='minor', linestyle='--')\n",
        "plt.xlim(0, 2e4)\n",
        "plt.ylim(1e-1, 1e3)\n",
        "plt.xticks(fontsize=fs)\n",
        "plt.yticks(fontsize=fs)\n",
        "ax.tick_params(axis='both',direction='in')\n",
        "\n",
        "plt.legend(fontsize=fs)\n",
        "plt.xlabel('Iteration count', fontsize=fs)\n",
        "plt.ylabel('Loss', fontsize=fs)\n",
        "plt.title('Loss while training')\n",
        "plt.tight_layout()\n",
        "plt.savefig('history_harm.png')\n",
        "plt.show()"
      ]
    }
  ],
  "metadata": {
    "colab": {
      "provenance": []
    },
    "kernelspec": {
      "display_name": "Python 3",
      "name": "python3"
    },
    "language_info": {
      "name": "python"
    }
  },
  "nbformat": 4,
  "nbformat_minor": 0
}